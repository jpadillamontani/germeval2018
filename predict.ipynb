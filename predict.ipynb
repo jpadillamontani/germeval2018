{
 "cells": [
  {
   "cell_type": "code",
   "execution_count": null,
   "metadata": {},
   "outputs": [],
   "source": [
    "from sklearn.ensemble import ExtraTreesClassifier\n",
    "from sklearn.linear_model import LogisticRegression\n",
    "\n",
    "from sklearn.model_selection import cross_val_predict, StratifiedKFold\n",
    "\n",
    "import pickle, numpy as np\n",
    "\n",
    "from utilities import get_train_data, get_test_data\n",
    "\n",
    "PICKLE_FOLDER_PATH = ...\n",
    "\n",
    "TRAIN_FILENAME = ...\n",
    "TEST_FILENAME  = ..."
   ]
  },
  {
   "cell_type": "code",
   "execution_count": null,
   "metadata": {},
   "outputs": [],
   "source": [
    "X_CNGR_train = pickle.load(open(PICKLE_FOLDER_PATH + \"X_CNGR_train.p\", \"rb\" ))\n",
    "X_CNGR_test  = pickle.load(open(PICKLE_FOLDER_PATH + \"X_CNGR_test.p\", \"rb\" ))\n",
    "\n",
    "X_TNGR_train = pickle.load(open(PICKLE_FOLDER_PATH + \"X_TNGR_train.p\", \"rb\" ))\n",
    "X_TNGR_test  = pickle.load(open(PICKLE_FOLDER_PATH + \"X_TNGR_test.p\", \"rb\" ))\n",
    "\n",
    "X_CIMP_task1_train = pickle.load(open(PICKLE_FOLDER_PATH + \"X_CIMP_task1_train.p\", \"rb\" ))\n",
    "X_CIMP_task1_test  = pickle.load(open(PICKLE_FOLDER_PATH + \"X_CIMP_task1_test.p\", \"rb\" ))\n",
    "\n",
    "X_CIMP_task2_train = pickle.load(open(PICKLE_FOLDER_PATH + \"X_CIMP_task2_train.p\", \"rb\" ))\n",
    "X_CIMP_task2_test  = pickle.load(open(PICKLE_FOLDER_PATH + \"X_CIMP_task2_test.p\", \"rb\" ))\n",
    "\n",
    "X_TIMP_task1_train = pickle.load(open(PICKLE_FOLDER_PATH + \"X_TIMP_task1_train.p\", \"rb\" ))\n",
    "X_TIMP_task1_test  = pickle.load(open(PICKLE_FOLDER_PATH + \"X_TIMP_task1_test.p\", \"rb\" ))\n",
    "\n",
    "X_TIMP_task2_train = pickle.load(open(PICKLE_FOLDER_PATH + \"X_TIMP_task2_train.p\", \"rb\" ))\n",
    "X_TIMP_task2_test  = pickle.load(open(PICKLE_FOLDER_PATH + \"X_TIMP_task2_test.p\", \"rb\" ))\n",
    "\n",
    "X_EMB_train = pickle.load(open(PICKLE_FOLDER_PATH + \"X_EMB_train.p\", \"rb\" ))\n",
    "X_EMB_test  = pickle.load(open(PICKLE_FOLDER_PATH + \"X_EMB_test.p\", \"rb\" ))"
   ]
  },
  {
   "cell_type": "code",
   "execution_count": null,
   "metadata": {},
   "outputs": [],
   "source": [
    "_, y1, y2 = get_train_data(TRAIN_FILENAME)"
   ]
  },
  {
   "cell_type": "code",
   "execution_count": null,
   "metadata": {},
   "outputs": [],
   "source": [
    "def get_META_feats(clf, X_train, X_test, y, seeds=[42]):\n",
    "    feats_train = []\n",
    "    for seed in seeds:\n",
    "        skf = StratifiedKFold(n_splits=10, shuffle=True, random_state=seed)\n",
    "        feats_train.append(cross_val_predict(clf, X_train, y=y, method='predict_proba', cv=skf, n_jobs=-1))\n",
    "    feats_train = np.mean(feats_train, axis=0)\n",
    "    \n",
    "    clf.fit(X_train, y)\n",
    "    feats_test = clf.predict_proba(X_test)\n",
    "    \n",
    "    return feats_train, feats_test"
   ]
  },
  {
   "cell_type": "markdown",
   "metadata": {},
   "source": [
    "## TASK 1 - Base level predictions"
   ]
  },
  {
   "cell_type": "code",
   "execution_count": null,
   "metadata": {},
   "outputs": [],
   "source": [
    "%%time\n",
    "clfs_task1 = [LogisticRegression(class_weight='balanced'),\n",
    "              ExtraTreesClassifier(n_estimators=100, criterion='entropy', n_jobs=-1),\n",
    "              ExtraTreesClassifier(n_estimators=100, criterion='gini', n_jobs=-1)]\n",
    "\n",
    "base_feats_task1 = [(X_CNGR_train, X_CNGR_test),\n",
    "                    (X_TNGR_train, X_TNGR_test),\n",
    "                    (X_CIMP_task1_train, X_CIMP_task1_test),\n",
    "                    (X_TIMP_task1_train, X_TIMP_task1_test),\n",
    "                    (X_EMB_train, X_EMB_test)]\n",
    "\n",
    "X_META_task1_train = []\n",
    "X_META_task1_test  = []\n",
    "for X_train, X_test in base_feats_task1:\n",
    "    for clf in clfs_task1:\n",
    "        feats = get_META_feats(clf, X_train, X_test, y1)\n",
    "        X_META_task1_train.append(feats[0])\n",
    "        X_META_task1_test.append(feats[1])\n",
    "        \n",
    "X_META_task1_train = np.concatenate(X_META_task1_train, axis=1)\n",
    "X_META_task1_test  = np.concatenate(X_META_task1_test, axis=1)"
   ]
  },
  {
   "cell_type": "markdown",
   "metadata": {},
   "source": [
    "## TASK 2  - Base level predictions"
   ]
  },
  {
   "cell_type": "code",
   "execution_count": null,
   "metadata": {},
   "outputs": [],
   "source": [
    "%%time\n",
    "clfs_task2 = [LogisticRegression(class_weight='balanced'),\n",
    "              ExtraTreesClassifier(n_estimators=150, criterion='entropy', n_jobs=-1),\n",
    "              ExtraTreesClassifier(n_estimators=150, criterion='gini', n_jobs=-1)]\n",
    "\n",
    "base_feats_task2 = [(X_CNGR_train, X_CNGR_test),\n",
    "                    (X_TNGR_train, X_TNGR_test),\n",
    "                    (X_CIMP_task2_train, X_CIMP_task2_test),\n",
    "                    (X_TIMP_task2_train, X_TIMP_task2_test),\n",
    "                    (X_EMB_train, X_EMB_test)]\n",
    "\n",
    "X_META_task2_train = []\n",
    "X_META_task2_test  = []\n",
    "for X_train, X_test in base_feats_task2:\n",
    "    for clf in clfs_task2:\n",
    "        feats = get_META_feats(clf, X_train, X_test, y2)\n",
    "        X_META_task2_train.append(feats[0])\n",
    "        X_META_task2_test.append(feats[1])\n",
    "        \n",
    "X_META_task2_train = np.concatenate(X_META_task2_train, axis=1)\n",
    "X_META_task2_test  = np.concatenate(X_META_task2_test, axis=1)"
   ]
  },
  {
   "cell_type": "markdown",
   "metadata": {},
   "source": [
    "## Meta level predictions"
   ]
  },
  {
   "cell_type": "code",
   "execution_count": null,
   "metadata": {},
   "outputs": [],
   "source": [
    "clf_task1 = LogisticRegression(C=0.17, class_weight='balanced')\n",
    "clf_task1.fit(X_META_task1_train, y1)\n",
    "\n",
    "clf_task2 = LogisticRegression(C=0.2, class_weight='balanced')\n",
    "clf_task2.fit(X_META_task2_train, y2)  \n",
    "\n",
    "preds_task1 = clf_task1.predict(X_META_task1_test)    \n",
    "preds_task2 = clf_task2.predict(X_META_task2_test)"
   ]
  }
 ],
 "metadata": {
  "kernelspec": {
   "display_name": "Python 3",
   "language": "python",
   "name": "python3"
  },
  "language_info": {
   "codemirror_mode": {
    "name": "ipython",
    "version": 3
   },
   "file_extension": ".py",
   "mimetype": "text/x-python",
   "name": "python",
   "nbconvert_exporter": "python",
   "pygments_lexer": "ipython3",
   "version": "3.6.6"
  }
 },
 "nbformat": 4,
 "nbformat_minor": 2
}
